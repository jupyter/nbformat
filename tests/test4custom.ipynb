{
 "cells": [
  {
   "cell_type": "code",
   "execution_count": 2,
   "metadata": {
    "collapsed": false
   },
   "outputs": [
    {
     "data": {
      "application/vnd.raw.v1+json": {
       "apples": [
        "🍎",
        "🍏"
       ],
       "bananas": 2,
       "oranges": "apples"
      }
     },
     "metadata": {},
     "output_type": "display_data"
    }
   ],
   "source": [
    "from __future__ import annotations\n",
    "\n",
    "import IPython\n",
    "\n",
    "bundle = {}\n",
    "bundle[\"application/vnd.raw.v1+json\"] = {\"apples\": [\"🍎\", \"🍏\"], \"bananas\": 2, \"oranges\": \"apples\"}\n",
    "\n",
    "IPython.display.display(bundle, raw=True)"
   ]
  },
  {
   "cell_type": "code",
   "execution_count": null,
   "metadata": {
    "collapsed": true
   },
   "outputs": [],
   "source": []
  }
 ],
 "metadata": {},
 "nbformat": 4,
 "nbformat_minor": 2
}
